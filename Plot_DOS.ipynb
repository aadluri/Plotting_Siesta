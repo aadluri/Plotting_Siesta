{
 "cells": [
  {
   "cell_type": "code",
   "execution_count": null,
   "metadata": {},
   "outputs": [],
   "source": [
    "import numpy as np\n",
    "import matplotlib.pyplot as plt"
   ]
  },
  {
   "cell_type": "code",
   "execution_count": null,
   "metadata": {},
   "outputs": [],
   "source": [
    "data = np.loadtxt('file.alldos')\n",
    "#setup plot\n",
    "plt.xlabel\n",
    "plt.title('PDOS Ag in AgMgO - 5s Electrons ')\n",
    "plt.xlabel('Energy (eV)')\n",
    "plt.ylabel('PDOS 1/eV')\n",
    "#Fix fermi level - put 0 eV in center of bandgap\n",
    "x_axis=data[:,0]\n",
    "y_axis=data[:,1]\n",
    "fermi=5.4\n",
    "#plot\n",
    "plt.xlim(-5,5)\n",
    "plt.plot(x_axis+fermi,y_axis, color=\"blue\", linewidth=1.1)"
   ]
  }
 ],
 "metadata": {
  "kernelspec": {
   "display_name": "Python 3",
   "language": "python",
   "name": "python3"
  },
  "language_info": {
   "codemirror_mode": {
    "name": "ipython",
    "version": 3
   },
   "file_extension": ".py",
   "mimetype": "text/x-python",
   "name": "python",
   "nbconvert_exporter": "python",
   "pygments_lexer": "ipython3",
   "version": "3.7.1"
  }
 },
 "nbformat": 4,
 "nbformat_minor": 2
}
